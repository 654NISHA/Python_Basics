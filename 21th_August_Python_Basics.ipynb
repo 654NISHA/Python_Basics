{
 "cells": [
  {
   "cell_type": "markdown",
   "id": "85497634-f2eb-44b2-999d-7e4c4d6914a1",
   "metadata": {},
   "source": [
    "Python Basics Variable"
   ]
  },
  {
   "cell_type": "code",
   "execution_count": 2,
   "id": "94c7f7aa-e963-4dc5-8567-a8fbad954c50",
   "metadata": {},
   "outputs": [
    {
     "name": "stdout",
     "output_type": "stream",
     "text": [
      "x=5 and y=6\n",
      "x=6 and y=5\n"
     ]
    }
   ],
   "source": [
    "#Declare two variables, `x` and `y`, and assign them integer values.Swap the values of these variables without using any temporary variable.\n",
    "x=5 \n",
    "y=6\n",
    "print(\"x={0} and y={1}\".format(x,y))\n",
    "x,y=y,x\n",
    "print(\"x={0} and y={1}\".format(x,y))"
   ]
  },
  {
   "cell_type": "code",
   "execution_count": 4,
   "id": "cbcbf34e-3d04-4aaf-90c1-7f20b448640d",
   "metadata": {},
   "outputs": [
    {
     "name": "stdin",
     "output_type": "stream",
     "text": [
      "Enter the length of a rectangle 5\n",
      "Enter the width of a rectangle 2\n"
     ]
    },
    {
     "name": "stdout",
     "output_type": "stream",
     "text": [
      "Area of a rectangle is  10.0\n"
     ]
    }
   ],
   "source": [
    "#Create a program that calculates the area of a rectangle. Take the length and width as inputs from the user and store them in variables.\n",
    "#Calculate and display the area.\n",
    "l=float(input(\"Enter the length of a rectangle\"))\n",
    "w=float(input(\"Enter the width of a rectangle\"))\n",
    "print(\"Area of a rectangle is \",l*w)"
   ]
  },
  {
   "cell_type": "code",
   "execution_count": 19,
   "id": "18d2ed15-1b4e-44c1-977a-7a2929780cbd",
   "metadata": {},
   "outputs": [
    {
     "name": "stdin",
     "output_type": "stream",
     "text": [
      "Enter the temperature in Celsius 0\n"
     ]
    },
    {
     "name": "stdout",
     "output_type": "stream",
     "text": [
      "The temperature in Fahrenheit is  32.0\n"
     ]
    }
   ],
   "source": [
    "#Write a Python program that converts temperature from Celsius to Fahrenheit. Take the temperature in Celsius as input, store it in a variable, \n",
    "#convert it to Fahrenheit, and display the result.\n",
    "C=float(input(\"Enter the temperature in Celsius\"))\n",
    "F=(C*(9/5))+32\n",
    "print(\"The temperature in Fahrenheit is \",F)"
   ]
  },
  {
   "cell_type": "markdown",
   "id": "4fcc8a72-a526-4e8a-9f5a-dc55c59b160e",
   "metadata": {},
   "source": [
    " String Based Questions"
   ]
  },
  {
   "cell_type": "code",
   "execution_count": 1,
   "id": "0206353c-1897-44b7-8890-3c0663272835",
   "metadata": {},
   "outputs": [
    {
     "name": "stdin",
     "output_type": "stream",
     "text": [
      "Enter the string Hello, World!\n"
     ]
    },
    {
     "name": "stdout",
     "output_type": "stream",
     "text": [
      "13\n"
     ]
    }
   ],
   "source": [
    "#Write a Python program that takes a string as input and prints the length of the string.\n",
    "string=str(input(\"Enter the string\"))\n",
    "print(len(string))"
   ]
  },
  {
   "cell_type": "code",
   "execution_count": 7,
   "id": "5a2da020-360f-4ca5-a53e-6d676987f314",
   "metadata": {},
   "outputs": [
    {
     "name": "stdin",
     "output_type": "stream",
     "text": [
      "Enter the string all computers are machine\n"
     ]
    },
    {
     "name": "stdout",
     "output_type": "stream",
     "text": [
      "The count of vowels in given string is  9\n"
     ]
    }
   ],
   "source": [
    "#Create a program that takes a sentence from the user and counts the number of vowels (a, e, i, o, u) in the string.\n",
    "s=str(input(\"Enter the string\"))\n",
    "print(\"The count of vowels in given string is \",s.count('a')+s.count('e')+s.count('i')+s.count('o')+s.count('u'))"
   ]
  },
  {
   "cell_type": "code",
   "execution_count": 10,
   "id": "0fd68393-5bcd-44ba-a501-3079a92691ae",
   "metadata": {},
   "outputs": [
    {
     "name": "stdin",
     "output_type": "stream",
     "text": [
      "Enter the string Hello\n"
     ]
    },
    {
     "name": "stdout",
     "output_type": "stream",
     "text": [
      "Reverse the given string olleH\n"
     ]
    }
   ],
   "source": [
    "#Given a string, reverse the order of characters using string slicing and print the reversed string.\n",
    "A=str(input(\"Enter the string\"))\n",
    "print(\"Reverse the given string\",A[::-1])"
   ]
  },
  {
   "cell_type": "code",
   "execution_count": 11,
   "id": "ca020f91-345e-4cbf-8f4d-120248c3b03d",
   "metadata": {},
   "outputs": [
    {
     "name": "stdin",
     "output_type": "stream",
     "text": [
      "Enter the string abba\n"
     ]
    },
    {
     "name": "stdout",
     "output_type": "stream",
     "text": [
      "Given string is palindrome\n"
     ]
    }
   ],
   "source": [
    "#Write a program that takes a string as input and checks if it is a palindrome (reads the same forwards and backwards).\n",
    "String=str(input(\"Enter the string\"))\n",
    "if (String==String[::-1]):\n",
    "    print(\"Given string is palindrome\")\n",
    "else:\n",
    "    print(\"Given string is not palindrome\")"
   ]
  },
  {
   "cell_type": "code",
   "execution_count": 17,
   "id": "25d7efe4-bb8a-49b3-904b-302db218899e",
   "metadata": {},
   "outputs": [
    {
     "name": "stdin",
     "output_type": "stream",
     "text": [
      "Enter the string      Hello, World!    \n"
     ]
    },
    {
     "data": {
      "text/plain": [
       "'Hello,World!'"
      ]
     },
     "execution_count": 17,
     "metadata": {},
     "output_type": "execute_result"
    }
   ],
   "source": [
    "#Create a program that takes a string as input and removes all the spaces from it. Print the modified string without spaces.\n",
    "s=str(input(\"Enter the string\"))\n",
    "s.replace(\" \",\"\")"
   ]
  }
 ],
 "metadata": {
  "kernelspec": {
   "display_name": "Python 3 (ipykernel)",
   "language": "python",
   "name": "python3"
  },
  "language_info": {
   "codemirror_mode": {
    "name": "ipython",
    "version": 3
   },
   "file_extension": ".py",
   "mimetype": "text/x-python",
   "name": "python",
   "nbconvert_exporter": "python",
   "pygments_lexer": "ipython3",
   "version": "3.10.8"
  }
 },
 "nbformat": 4,
 "nbformat_minor": 5
}
